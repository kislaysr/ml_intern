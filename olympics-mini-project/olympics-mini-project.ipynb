{
 "cells": [
  {
   "cell_type": "code",
   "execution_count": 470,
   "metadata": {
    "collapsed": true
   },
   "outputs": [],
   "source": [
    "import pandas as pd\n",
    "import numpy as np"
   ]
  },
  {
   "cell_type": "markdown",
   "metadata": {},
   "source": [
    "# Question 1:"
   ]
  },
  {
   "cell_type": "code",
   "execution_count": 471,
   "metadata": {},
   "outputs": [],
   "source": [
    "def load_data(path):\n",
    "    #read_csv\n",
    "    df = pd.read_csv(path,skiprows=1)\n",
    "    #renaming medals 01,..\n",
    "    rename_cols_names ={'Unnamed: 0':\"country\", '# Summer':\"summer\", '01 !':\"summer_gold\", '02 !':\"summer_silver\", '03 !':\"summer_bronze\", 'Total':\"Total\",\n",
    "       '# Winter':\"winter\", '01 !.1':\"winter_gold\", '02 !.1':'winter_silver', '03 !.1':'winter_bronze', 'Total.1':\"Total\",'# Games':\"games\",\n",
    "       '01 !.2':\"total_gold\", '02 !.2':\"total_silver\", '03 !.2':\"total_bronze\", 'Combined total':\"combined_total\"}\n",
    "    df.rename(columns=rename_cols_names,inplace=True)\n",
    "    #splitting country column into country name and code\n",
    "    country_name = df.country.str.split(\"(\", expand=True)[0].tolist()\n",
    "    country_code = df.country.str.split(\"(\", expand=True)[1].tolist()\n",
    "    df.insert(0,column='country_name',value =country_name)\n",
    "    df.insert(0,column='country_code',value=country_code)\n",
    "    #setting index as country_name\n",
    "    df.set_index(\"country_name\",drop=True,inplace = True)\n",
    "    #dropping older country col\n",
    "    df.drop(\"country\",1,inplace=True)\n",
    "    #dropping total col\n",
    "    df.drop(\"Total\",1,inplace=True)\n",
    "    #dropping totals row\n",
    "    df.drop(\"Totals\",inplace = True)\n",
    "    #cleaning country code\n",
    "    df.country_code = df.country_code.str.replace(')',\" \")\n",
    "    return df"
   ]
  },
  {
   "cell_type": "code",
   "execution_count": 472,
   "metadata": {},
   "outputs": [],
   "source": [
    "df = load_data('data/olympics.csv')"
   ]
  },
  {
   "cell_type": "code",
   "execution_count": 473,
   "metadata": {},
   "outputs": [
    {
     "data": {
      "text/html": [
       "<div>\n",
       "<style>\n",
       "    .dataframe thead tr:only-child th {\n",
       "        text-align: right;\n",
       "    }\n",
       "\n",
       "    .dataframe thead th {\n",
       "        text-align: left;\n",
       "    }\n",
       "\n",
       "    .dataframe tbody tr th {\n",
       "        vertical-align: top;\n",
       "    }\n",
       "</style>\n",
       "<table border=\"1\" class=\"dataframe\">\n",
       "  <thead>\n",
       "    <tr style=\"text-align: right;\">\n",
       "      <th></th>\n",
       "      <th>country_code</th>\n",
       "      <th>summer</th>\n",
       "      <th>summer_gold</th>\n",
       "      <th>summer_silver</th>\n",
       "      <th>summer_bronze</th>\n",
       "      <th>winter</th>\n",
       "      <th>winter_gold</th>\n",
       "      <th>winter_silver</th>\n",
       "      <th>winter_bronze</th>\n",
       "      <th>games</th>\n",
       "      <th>total_gold</th>\n",
       "      <th>total_silver</th>\n",
       "      <th>total_bronze</th>\n",
       "      <th>combined_total</th>\n",
       "    </tr>\n",
       "    <tr>\n",
       "      <th>country_name</th>\n",
       "      <th></th>\n",
       "      <th></th>\n",
       "      <th></th>\n",
       "      <th></th>\n",
       "      <th></th>\n",
       "      <th></th>\n",
       "      <th></th>\n",
       "      <th></th>\n",
       "      <th></th>\n",
       "      <th></th>\n",
       "      <th></th>\n",
       "      <th></th>\n",
       "      <th></th>\n",
       "      <th></th>\n",
       "    </tr>\n",
       "  </thead>\n",
       "  <tbody>\n",
       "    <tr>\n",
       "      <th>Afghanistan</th>\n",
       "      <td>AFG</td>\n",
       "      <td>13</td>\n",
       "      <td>0</td>\n",
       "      <td>0</td>\n",
       "      <td>2</td>\n",
       "      <td>0</td>\n",
       "      <td>0</td>\n",
       "      <td>0</td>\n",
       "      <td>0</td>\n",
       "      <td>13</td>\n",
       "      <td>0</td>\n",
       "      <td>0</td>\n",
       "      <td>2</td>\n",
       "      <td>2</td>\n",
       "    </tr>\n",
       "    <tr>\n",
       "      <th>Algeria</th>\n",
       "      <td>ALG</td>\n",
       "      <td>12</td>\n",
       "      <td>5</td>\n",
       "      <td>2</td>\n",
       "      <td>8</td>\n",
       "      <td>3</td>\n",
       "      <td>0</td>\n",
       "      <td>0</td>\n",
       "      <td>0</td>\n",
       "      <td>15</td>\n",
       "      <td>5</td>\n",
       "      <td>2</td>\n",
       "      <td>8</td>\n",
       "      <td>15</td>\n",
       "    </tr>\n",
       "    <tr>\n",
       "      <th>Argentina</th>\n",
       "      <td>ARG</td>\n",
       "      <td>23</td>\n",
       "      <td>18</td>\n",
       "      <td>24</td>\n",
       "      <td>28</td>\n",
       "      <td>18</td>\n",
       "      <td>0</td>\n",
       "      <td>0</td>\n",
       "      <td>0</td>\n",
       "      <td>41</td>\n",
       "      <td>18</td>\n",
       "      <td>24</td>\n",
       "      <td>28</td>\n",
       "      <td>70</td>\n",
       "    </tr>\n",
       "    <tr>\n",
       "      <th>Armenia</th>\n",
       "      <td>ARM</td>\n",
       "      <td>5</td>\n",
       "      <td>1</td>\n",
       "      <td>2</td>\n",
       "      <td>9</td>\n",
       "      <td>6</td>\n",
       "      <td>0</td>\n",
       "      <td>0</td>\n",
       "      <td>0</td>\n",
       "      <td>11</td>\n",
       "      <td>1</td>\n",
       "      <td>2</td>\n",
       "      <td>9</td>\n",
       "      <td>12</td>\n",
       "    </tr>\n",
       "    <tr>\n",
       "      <th>Australasia</th>\n",
       "      <td>ANZ  [ANZ]</td>\n",
       "      <td>2</td>\n",
       "      <td>3</td>\n",
       "      <td>4</td>\n",
       "      <td>5</td>\n",
       "      <td>0</td>\n",
       "      <td>0</td>\n",
       "      <td>0</td>\n",
       "      <td>0</td>\n",
       "      <td>2</td>\n",
       "      <td>3</td>\n",
       "      <td>4</td>\n",
       "      <td>5</td>\n",
       "      <td>12</td>\n",
       "    </tr>\n",
       "  </tbody>\n",
       "</table>\n",
       "</div>"
      ],
      "text/plain": [
       "             country_code  summer  summer_gold  summer_silver  summer_bronze  \\\n",
       "country_name                                                                   \n",
       "Afghanistan          AFG       13            0              0              2   \n",
       "Algeria              ALG       12            5              2              8   \n",
       "Argentina            ARG       23           18             24             28   \n",
       "Armenia              ARM        5            1              2              9   \n",
       "Australasia    ANZ  [ANZ]       2            3              4              5   \n",
       "\n",
       "              winter  winter_gold  winter_silver  winter_bronze  games  \\\n",
       "country_name                                                             \n",
       "Afghanistan        0            0              0              0     13   \n",
       "Algeria            3            0              0              0     15   \n",
       "Argentina         18            0              0              0     41   \n",
       "Armenia            6            0              0              0     11   \n",
       "Australasia        0            0              0              0      2   \n",
       "\n",
       "              total_gold  total_silver  total_bronze  combined_total  \n",
       "country_name                                                          \n",
       "Afghanistan            0             0             2               2  \n",
       "Algeria                5             2             8              15  \n",
       "Argentina             18            24            28              70  \n",
       "Armenia                1             2             9              12  \n",
       "Australasia            3             4             5              12  "
      ]
     },
     "execution_count": 473,
     "metadata": {},
     "output_type": "execute_result"
    }
   ],
   "source": [
    "df.head()"
   ]
  },
  {
   "cell_type": "markdown",
   "metadata": {},
   "source": [
    "# Question 2"
   ]
  },
  {
   "cell_type": "code",
   "execution_count": 474,
   "metadata": {
    "collapsed": true
   },
   "outputs": [],
   "source": [
    "def first_country(df):\n",
    "    return df.iloc[0].name"
   ]
  },
  {
   "cell_type": "code",
   "execution_count": 475,
   "metadata": {},
   "outputs": [
    {
     "name": "stdout",
     "output_type": "stream",
     "text": [
      "Afghanistan \n"
     ]
    }
   ],
   "source": [
    "print(first_country(df))"
   ]
  },
  {
   "cell_type": "markdown",
   "metadata": {},
   "source": [
    "# Question 3"
   ]
  },
  {
   "cell_type": "code",
   "execution_count": 476,
   "metadata": {},
   "outputs": [],
   "source": [
    "def gold_medal(df):\n",
    "    return df.summer_gold.argmax()"
   ]
  },
  {
   "cell_type": "code",
   "execution_count": 477,
   "metadata": {},
   "outputs": [
    {
     "data": {
      "text/plain": [
       "'United States\\xc2\\xa0'"
      ]
     },
     "execution_count": 477,
     "metadata": {},
     "output_type": "execute_result"
    }
   ],
   "source": [
    "gold_medal(df)"
   ]
  },
  {
   "cell_type": "markdown",
   "metadata": {},
   "source": [
    "# Question 4"
   ]
  },
  {
   "cell_type": "code",
   "execution_count": 478,
   "metadata": {},
   "outputs": [],
   "source": [
    "def biggest_difference_in_gold_medal(df):\n",
    "    return (df.summer_gold - df.winter_gold).abs().argmax()\n"
   ]
  },
  {
   "cell_type": "code",
   "execution_count": 479,
   "metadata": {},
   "outputs": [
    {
     "data": {
      "text/plain": [
       "'United States\\xc2\\xa0'"
      ]
     },
     "execution_count": 479,
     "metadata": {},
     "output_type": "execute_result"
    }
   ],
   "source": [
    "biggest_difference_in_gold_medal(df)"
   ]
  },
  {
   "cell_type": "markdown",
   "metadata": {},
   "source": [
    "# Question 5"
   ]
  },
  {
   "cell_type": "code",
   "execution_count": 480,
   "metadata": {
    "collapsed": true
   },
   "outputs": [],
   "source": [
    "def get_points(df):\n",
    "    points = df.total_gold * 3 + df.total_silver*2 + df.total_bronze\n",
    "    df.insert(0,column='points',value =points)\n",
    "    return df.points\n"
   ]
  },
  {
   "cell_type": "code",
   "execution_count": 481,
   "metadata": {},
   "outputs": [
    {
     "data": {
      "text/plain": [
       "country_name\n",
       "Afghanistan                   2\n",
       "Algeria                      27\n",
       "Argentina                   130\n",
       "Armenia                      16\n",
       "Australasia                  22\n",
       "Australia                   923\n",
       "Austria                     569\n",
       "Azerbaijan                   43\n",
       "Bahamas                      24\n",
       "Bahrain                       1\n",
       "Barbados                      1\n",
       "Belarus                     154\n",
       "Belgium                     276\n",
       "Bermuda                       1\n",
       "Bohemia                       5\n",
       "Botswana                      2\n",
       "Brazil                      184\n",
       "British West Indies           2\n",
       "Bulgaria                    411\n",
       "Burundi                       3\n",
       "Cameroon                     12\n",
       "Canada                      846\n",
       "Chile                        24\n",
       "China                      1120\n",
       "Colombia                     29\n",
       "Costa Rica                    7\n",
       "Ivory Coast                   2\n",
       "Croatia                      67\n",
       "Cuba                        420\n",
       "Cyprus                        2\n",
       "Czech Republic              134\n",
       "Czechoslovakia              327\n",
       "Denmark                     335\n",
       "Djibouti                      1\n",
       "Dominican Republic           14\n",
       "Ecuador                       5\n",
       "Egypt                        49\n",
       "Eritrea                       1\n",
       "Estonia                      77\n",
       "Ethiopia                     94\n",
       "Finland                     895\n",
       "France                     1500\n",
       "Gabon                         2\n",
       "Georgia                      42\n",
       "Germany                    1546\n",
       "United Team of Germany      269\n",
       "East Germany               1068\n",
       "West Germany                459\n",
       "Ghana                         5\n",
       "Great Britain              1574\n",
       "Name: points, dtype: int64"
      ]
     },
     "execution_count": 481,
     "metadata": {},
     "output_type": "execute_result"
    }
   ],
   "source": [
    "get_points(df)[:50]"
   ]
  },
  {
   "cell_type": "markdown",
   "metadata": {},
   "source": [
    "# Question 6"
   ]
  },
  {
   "cell_type": "code",
   "execution_count": 687,
   "metadata": {},
   "outputs": [],
   "source": [
    "%matplotlib inline\n",
    "import matplotlib.pyplot as plt\n",
    "import matplotlib.cm as cm\n",
    "from scipy import stats\n",
    "from sklearn.cluster import KMeans\n",
    "def k_means(df):\n",
    "    features = ['points','summer', u'summer_gold', u'summer_silver',\n",
    "       u'summer_bronze', u'winter', u'winter_gold', u'winter_silver',\n",
    "       u'winter_bronze', u'games', u'total_gold', u'total_silver',\n",
    "       u'total_bronze', u'combined_total']\n",
    "    sse = {}\n",
    "\n",
    "    maxK=20\n",
    "    #elbow method\n",
    "    for k in range(2,maxK):\n",
    "        sse[k] = 0\n",
    "        model = KMeans(n_clusters=k)\n",
    "        model.fit(df[features])\n",
    "        sse[k] += model.inertia_\n",
    "    opt_k = 3\n",
    "    for k in range(3,len(sse)):\n",
    "        diff = sse[k] - sse[k-1]\n",
    "        if diff< 0.010:\n",
    "            opt_k = k\n",
    "            break\n",
    "        \n",
    "        \n",
    "    x = sse.keys()\n",
    "    y = sse.values()\n",
    "    plt.plot(x,y)\n",
    "    plt.xlabel('k-clusters')\n",
    "    plt.ylabel('Squared Sum error')\n",
    "    plt.title('SSE vs k')\n",
    "    plt.grid(True)\n",
    "    plt.show()\n",
    "    \n",
    "    km = KMeans(n_clusters=opt_k)\n",
    "    km.fit(df[features])\n",
    "    inertia = km.inertia_\n",
    "    labels = km.labels_\n",
    "    \n",
    "    centers = km.cluster_centers_\n",
    "    plt.scatter(df['games'],df['points'],c=labels,marker='o',cmap = cm.Accent)\n",
    "    plt.xlabel('Total Games')\n",
    "    plt.ylabel('Points')\n",
    "    plt.title('Total Games vs Points')\n",
    "    plt.plot()\n",
    "    \n",
    "    return centers,opt_k\n",
    "    "
   ]
  },
  {
   "cell_type": "code",
   "execution_count": 688,
   "metadata": {},
   "outputs": [
    {
     "data": {
      "image/png": "[encoded data removed]",
      "text/plain": [
       "<matplotlib.figure.Figure at 0x12197470>"
      ]
     },
     "metadata": {},
     "output_type": "display_data"
    },
    {
     "name": "stdout",
     "output_type": "stream",
     "text": [
      "('Centers:', array([[  7.77829457e+01,   1.24806202e+01,   9.84496124e+00,\n",
      "          1.20697674e+01,   1.40155039e+01,   5.15503876e+00,\n",
      "          1.58914729e+00,   1.74418605e+00,   1.83720930e+00,\n",
      "          1.76356589e+01,   1.14341085e+01,   1.38139535e+01,\n",
      "          1.58527132e+01,   4.11007752e+01],\n",
      "       [  1.19562500e+03,   1.98750000e+01,   1.60187500e+02,\n",
      "          1.53812500e+02,   1.66000000e+02,   1.72500000e+01,\n",
      "          4.11250000e+01,   3.94375000e+01,   3.91875000e+01,\n",
      "          3.71250000e+01,   2.01312500e+02,   1.93250000e+02,\n",
      "          2.05187500e+02,   5.99750000e+02],\n",
      "       [  5.68400000e+03,   2.60000000e+01,   9.76000000e+02,\n",
      "          7.57000000e+02,   6.66000000e+02,   2.20000000e+01,\n",
      "          9.60000000e+01,   1.02000000e+02,   8.40000000e+01,\n",
      "          4.80000000e+01,   1.07200000e+03,   8.59000000e+02,\n",
      "          7.50000000e+02,   2.68100000e+03]]))\n",
      "('K value', 3)\n"
     ]
    },
    {
     "data": {
      "image/png": "[encoded data removed]",
      "text/plain": [
       "<matplotlib.figure.Figure at 0xf7caef0>"
      ]
     },
     "metadata": {},
     "output_type": "display_data"
    }
   ],
   "source": [
    "centers,optimal_k = k_means(df)\n",
    "print(\"Centers:\",centers)\n",
    "print(\"K value\",optimal_k)"
   ]
  },
  {
   "cell_type": "code",
   "execution_count": null,
   "metadata": {
    "collapsed": true
   },
   "outputs": [],
   "source": []
  }
 ],
 "metadata": {
  "kernelspec": {
   "display_name": "Python [conda root]",
   "language": "python",
   "name": "conda-root-py"
  },
  "language_info": {
   "codemirror_mode": {
    "name": "ipython",
    "version": 2
   },
   "file_extension": ".py",
   "mimetype": "text/x-python",
   "name": "python",
   "nbconvert_exporter": "python",
   "pygments_lexer": "ipython2",
   "version": "2.7.13"
  }
 },
 "nbformat": 4,
 "nbformat_minor": 2
}
