{
 "cells": [
  {
   "cell_type": "markdown",
   "metadata": {},
   "source": [
    "# Task: Making `Complex_Numbers` Package:"
   ]
  },
  {
   "cell_type": "markdown",
   "metadata": {},
   "source": [
    "Note:\n",
    "\n",
    "* You are not allowed to use any internal `complex number` library or a python package that handle complex numbers.\n",
    "* You can use other internal libraries if you like.\n",
    "\n",
    "Define a class called `complex_number` which accepts 2 parameters:\n",
    "\n",
    "* x: int64, float64, represents real component of the complex number\n",
    "* y: int64, float64, represents imaginary component of the complex number\n",
    "\n",
    "Example, `complex_number(3, 5)` means 3 is the real part of the complex number and 5 is the imaginary part of the complex number. Such a number is represented as 3 + 5i.\n",
    "\n",
    "Here is [a resource](http://www.careerbless.com/aptitude/qa/complex_numbers_imp.php) to help you with the required information to solve this assignment. You can take help from other online resources as well.\n",
    "\n",
    "### Questions:\n",
    "\n",
    "Define the follwoing operations for the class: \n",
    "\n",
    "* representation in the form of x + yi when used with `print` command\n",
    "* '+'\n",
    "* '-'\n",
    "* '*'\n",
    "* '/'\n",
    "* abs()\n",
    "\n",
    "* Note that these operations should be compatible with `int` and `float` datatypes as well\n",
    "\n",
    "Also, define following methods.\n",
    "\n",
    "\n",
    "* real() [Returns real component of the complex number]\n",
    "* imag() [Returns complex component of the complex number]\n",
    "* argument() [Returns argument of the complex number]\n",
    "* conjugate() [Returns conjugate of the complex number]\n",
    "\n",
    "Include error handling"
   ]
  },
  {
   "cell_type": "code",
   "execution_count": 236,
   "metadata": {},
   "outputs": [],
   "source": [
    "import math\n",
    "class complex_number:\n",
    "    def __init__(self,x=1.0,y=1.0):\n",
    "        try:\n",
    "            self.x = x*1.0\n",
    "            self.y = y*1.0\n",
    "        except TypeError:\n",
    "            print(\"Only int64, float64 expected !!!\")\n",
    "                                 \n",
    "    def __str__(self):\n",
    "        sign = \" + (\"\n",
    "        return str(self.x)+sign+str(self.y)+\")i\"\n",
    "    def __add__(self, another_complex_number):\n",
    "        return complex_number(self.x+another_complex_number.x,self.y+another_complex_number.y)\n",
    "    def __sub__(self,another_complex_number):\n",
    "        return complex_number(self.x-another_complex_number.x,self.y-another_complex_number.y)\n",
    "    def __mul__(self,another_complex_number):\n",
    "        product = complex_number((self.x*another_complex_number.x - self.y*another_complex_number.y) , (self.x*another_complex_number.y+self.y*another_complex_number.x))  \n",
    "        return product\n",
    "    def __div__(self,another_complex_number):\n",
    "        try:\n",
    "            re = (self.x * another_complex_number.y + self.y * another_complex_number.y) / (another_complex_number.x**2 + another_complex_number.y**2)\n",
    "            im = (self.y * another_complex_number.x - self.x * another_complex_number.y) / (another_complex_number.x**2 + another_complex_number.y**2)\n",
    "            return complex_number(re,im)\n",
    "        except ZeroDivisionError:\n",
    "            print(\"Cannot Divide By Zero !!!\")\n",
    "    def __abs__(self):\n",
    "        return (self.x**2 + self.y**2)**0.5\n",
    "    def real(self):\n",
    "        return self.x\n",
    "    def imag(self):\n",
    "        return self.y\n",
    "    def argument(self):\n",
    "        try:\n",
    "            return math.degrees(math.atan((self.y/(self.x))))\n",
    "        except ZeroDivisionError:\n",
    "            print(\"Infinity\")\n",
    "    def conjugate(self):\n",
    "        return complex_number(self.x,-1.0*self.y)        \n",
    "        \n",
    "        "
   ]
  },
  {
   "cell_type": "code",
   "execution_count": 227,
   "metadata": {},
   "outputs": [],
   "source": [
    "a = complex_number(4.8,5)\n",
    "b = complex_number(7.9,-8)"
   ]
  },
  {
   "cell_type": "code",
   "execution_count": 228,
   "metadata": {},
   "outputs": [
    {
     "name": "stdout",
     "output_type": "stream",
     "text": [
      "12.7 + (-3.0)i\n"
     ]
    }
   ],
   "source": [
    "print(a+b)"
   ]
  },
  {
   "cell_type": "code",
   "execution_count": 229,
   "metadata": {},
   "outputs": [
    {
     "name": "stdout",
     "output_type": "stream",
     "text": [
      "-3.1 + (13.0)i\n"
     ]
    }
   ],
   "source": [
    "print(a-b)"
   ]
  },
  {
   "cell_type": "code",
   "execution_count": 230,
   "metadata": {},
   "outputs": [
    {
     "name": "stdout",
     "output_type": "stream",
     "text": [
      "77.92 + (1.1)i\n"
     ]
    }
   ],
   "source": [
    "print(a*b)"
   ]
  },
  {
   "cell_type": "code",
   "execution_count": 231,
   "metadata": {},
   "outputs": [
    {
     "name": "stdout",
     "output_type": "stream",
     "text": [
      "-0.620204097777 + (0.6162487145)i\n"
     ]
    }
   ],
   "source": [
    "print(a/b)"
   ]
  },
  {
   "cell_type": "code",
   "execution_count": 232,
   "metadata": {},
   "outputs": [
    {
     "name": "stdout",
     "output_type": "stream",
     "text": [
      "11.2432201793\n"
     ]
    }
   ],
   "source": [
    "print(abs(b))"
   ]
  },
  {
   "cell_type": "code",
   "execution_count": 233,
   "metadata": {},
   "outputs": [
    {
     "name": "stdout",
     "output_type": "stream",
     "text": [
      "4.8\n"
     ]
    }
   ],
   "source": [
    "print(a.real())"
   ]
  },
  {
   "cell_type": "code",
   "execution_count": 197,
   "metadata": {},
   "outputs": [
    {
     "name": "stdout",
     "output_type": "stream",
     "text": [
      "5.0\n"
     ]
    }
   ],
   "source": [
    "print(a.imag())"
   ]
  },
  {
   "cell_type": "code",
   "execution_count": 198,
   "metadata": {},
   "outputs": [
    {
     "name": "stdout",
     "output_type": "stream",
     "text": [
      "46.1691393279\n"
     ]
    }
   ],
   "source": [
    "print(a.argument())"
   ]
  },
  {
   "cell_type": "code",
   "execution_count": 199,
   "metadata": {},
   "outputs": [
    {
     "name": "stdout",
     "output_type": "stream",
     "text": [
      "4.8 + (-5.0)i\n"
     ]
    }
   ],
   "source": [
    "print(a.conjugate())"
   ]
  },
  {
   "cell_type": "code",
   "execution_count": 200,
   "metadata": {},
   "outputs": [
    {
     "name": "stdout",
     "output_type": "stream",
     "text": [
      "Infinity\n"
     ]
    }
   ],
   "source": [
    "#error_handling\n",
    "c = complex_number(0,5)\n",
    "c.argument()"
   ]
  },
  {
   "cell_type": "code",
   "execution_count": 234,
   "metadata": {},
   "outputs": [
    {
     "name": "stdout",
     "output_type": "stream",
     "text": [
      "Only int64, float64 expected !!! \n"
     ]
    }
   ],
   "source": [
    "#error_handling\n",
    "d = complex_number(\"hi\",7)"
   ]
  },
  {
   "cell_type": "code",
   "execution_count": 208,
   "metadata": {},
   "outputs": [
    {
     "name": "stdout",
     "output_type": "stream",
     "text": [
      "Cannot Divide By Zero !!!\n",
      "None\n"
     ]
    }
   ],
   "source": [
    "#error_handling\n",
    "e = complex_number(0,0) \n",
    "print(e/e)"
   ]
  }
 ],
 "metadata": {
  "kernelspec": {
   "display_name": "Python [default]",
   "language": "python",
   "name": "python2"
  },
  "language_info": {
   "codemirror_mode": {
    "name": "ipython",
    "version": 2
   },
   "file_extension": ".py",
   "mimetype": "text/x-python",
   "name": "python",
   "nbconvert_exporter": "python",
   "pygments_lexer": "ipython2",
   "version": "2.7.13"
  },
  "widgets": {
   "state": {},
   "version": "1.1.2"
  }
 },
 "nbformat": 4,
 "nbformat_minor": 2
}
